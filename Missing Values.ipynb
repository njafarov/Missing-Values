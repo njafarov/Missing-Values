{
 "cells": [
  {
   "cell_type": "code",
   "execution_count": 28,
   "id": "7fd09c1f",
   "metadata": {},
   "outputs": [],
   "source": [
    "import pandas as pd\n",
    "import numpy as np\n",
    "import matplotlib.pyplot as plt\n",
    "import seaborn as sns\n",
    "%matplotlib inline"
   ]
  },
  {
   "cell_type": "code",
   "execution_count": 7,
   "id": "a239a11a",
   "metadata": {},
   "outputs": [],
   "source": [
    "import os\n",
    "os.chdir('/Users/njafarov/Downloads')"
   ]
  },
  {
   "cell_type": "markdown",
   "id": "c1b8ce13",
   "metadata": {},
   "source": [
    "### All techniques of handling missing values "
   ]
  },
  {
   "cell_type": "markdown",
   "id": "173afe30",
   "metadata": {},
   "source": [
    "1. Mean/Median/Mode replacement\n",
    "2. Random Sample Imputation\n",
    "3. Capturing NAN values with a new feature\n",
    "4. End of Distribution imputation\n",
    "5. Arbitrary imputation\n",
    "6. Frequent categories imputation"
   ]
  },
  {
   "cell_type": "markdown",
   "id": "aff0c4e5",
   "metadata": {},
   "source": [
    "## 1. Mean/Median/Mode replacement"
   ]
  },
  {
   "cell_type": "markdown",
   "id": "38b34151",
   "metadata": {},
   "source": [
    "Assumption: Data are missing completely at random (MCAR). \n",
    "We solve it by replacing the NAN with the most frequent accurance of the variables"
   ]
  },
  {
   "cell_type": "code",
   "execution_count": 9,
   "id": "dca45ac3",
   "metadata": {},
   "outputs": [],
   "source": [
    "df = pd.read_csv('titanic.csv', usecols=['Age','Fare', '2urvived'])\n",
    "df = df.rename(columns={'2urvived':'Survived'})"
   ]
  },
  {
   "cell_type": "code",
   "execution_count": 10,
   "id": "26353f86",
   "metadata": {},
   "outputs": [],
   "source": [
    "df = pd.read_csv('train.csv', usecols=['Age', 'Fare', 'Survived'])"
   ]
  },
  {
   "cell_type": "code",
   "execution_count": 11,
   "id": "bb33b918",
   "metadata": {},
   "outputs": [
    {
     "data": {
      "text/plain": [
       "Survived    0.000000\n",
       "Age         0.198653\n",
       "Fare        0.000000\n",
       "dtype: float64"
      ]
     },
     "execution_count": 11,
     "metadata": {},
     "output_type": "execute_result"
    }
   ],
   "source": [
    "df.isnull().mean()"
   ]
  },
  {
   "cell_type": "code",
   "execution_count": 12,
   "id": "0b17d7cb",
   "metadata": {},
   "outputs": [],
   "source": [
    "def inpute_nan(df, variable, median):\n",
    "    df[variable+'_median'] = df[variable].fillna(median)"
   ]
  },
  {
   "cell_type": "code",
   "execution_count": 39,
   "id": "8ae93090",
   "metadata": {},
   "outputs": [
    {
     "data": {
      "text/html": [
       "<div>\n",
       "<style scoped>\n",
       "    .dataframe tbody tr th:only-of-type {\n",
       "        vertical-align: middle;\n",
       "    }\n",
       "\n",
       "    .dataframe tbody tr th {\n",
       "        vertical-align: top;\n",
       "    }\n",
       "\n",
       "    .dataframe thead th {\n",
       "        text-align: right;\n",
       "    }\n",
       "</style>\n",
       "<table border=\"1\" class=\"dataframe\">\n",
       "  <thead>\n",
       "    <tr style=\"text-align: right;\">\n",
       "      <th></th>\n",
       "      <th>Survived</th>\n",
       "      <th>Age</th>\n",
       "      <th>Fare</th>\n",
       "      <th>Age_median</th>\n",
       "      <th>Age_random</th>\n",
       "    </tr>\n",
       "  </thead>\n",
       "  <tbody>\n",
       "    <tr>\n",
       "      <th>0</th>\n",
       "      <td>0</td>\n",
       "      <td>22.0</td>\n",
       "      <td>7.2500</td>\n",
       "      <td>22.0</td>\n",
       "      <td>22.0</td>\n",
       "    </tr>\n",
       "    <tr>\n",
       "      <th>1</th>\n",
       "      <td>1</td>\n",
       "      <td>38.0</td>\n",
       "      <td>71.2833</td>\n",
       "      <td>38.0</td>\n",
       "      <td>38.0</td>\n",
       "    </tr>\n",
       "    <tr>\n",
       "      <th>2</th>\n",
       "      <td>1</td>\n",
       "      <td>26.0</td>\n",
       "      <td>7.9250</td>\n",
       "      <td>26.0</td>\n",
       "      <td>26.0</td>\n",
       "    </tr>\n",
       "    <tr>\n",
       "      <th>3</th>\n",
       "      <td>1</td>\n",
       "      <td>35.0</td>\n",
       "      <td>53.1000</td>\n",
       "      <td>35.0</td>\n",
       "      <td>35.0</td>\n",
       "    </tr>\n",
       "    <tr>\n",
       "      <th>4</th>\n",
       "      <td>0</td>\n",
       "      <td>35.0</td>\n",
       "      <td>8.0500</td>\n",
       "      <td>35.0</td>\n",
       "      <td>35.0</td>\n",
       "    </tr>\n",
       "  </tbody>\n",
       "</table>\n",
       "</div>"
      ],
      "text/plain": [
       "   Survived   Age     Fare  Age_median  Age_random\n",
       "0         0  22.0   7.2500        22.0        22.0\n",
       "1         1  38.0  71.2833        38.0        38.0\n",
       "2         1  26.0   7.9250        26.0        26.0\n",
       "3         1  35.0  53.1000        35.0        35.0\n",
       "4         0  35.0   8.0500        35.0        35.0"
      ]
     },
     "execution_count": 39,
     "metadata": {},
     "output_type": "execute_result"
    }
   ],
   "source": [
    "median = df['Age'].median()\n",
    "inpute_nan(df, 'Age', median)\n",
    "df.head()"
   ]
  },
  {
   "cell_type": "markdown",
   "id": "3db708ec",
   "metadata": {},
   "source": [
    "After replacement we have to check whether the standart deviation of both variables is different or not"
   ]
  },
  {
   "cell_type": "code",
   "execution_count": 14,
   "id": "5d4fd657",
   "metadata": {},
   "outputs": [
    {
     "name": "stdout",
     "output_type": "stream",
     "text": [
      "14.526497332334044\n",
      "13.019696550973194\n"
     ]
    }
   ],
   "source": [
    "print(df['Age'].std())\n",
    "print(df['Age_median'].std())"
   ]
  },
  {
   "cell_type": "code",
   "execution_count": 15,
   "id": "56d0a585",
   "metadata": {},
   "outputs": [],
   "source": [
    "fig = plt.figure() \n",
    "ax = fig.add_subplot(111) \n",
    "df['Age'].plot(kind='kde', ax=ax) \n",
    "df.Age_median.plot(kind='kde', ax=ax, color='red') \n",
    "lines, labels = ax.get_legend_handles_labels()"
   ]
  },
  {
   "cell_type": "markdown",
   "id": "215b5cce",
   "metadata": {},
   "source": [
    "#### Advantages and Disatvantages of Mean/Median Imputation\n",
    "\n",
    "#### Advabtages\n",
    "1. Easy to implement (Robust to outliers)\n",
    "2. Faster way to obtrain complete dataset\n",
    "\n",
    "#### Disadvabtages\n",
    "1. Change or Distortion in the original variabce\n",
    "2. Impacts Correlation"
   ]
  },
  {
   "cell_type": "markdown",
   "id": "5de383d6",
   "metadata": {},
   "source": [
    "## 2. Rample Sample Imputation"
   ]
  },
  {
   "cell_type": "markdown",
   "id": "469a23ef",
   "metadata": {},
   "source": [
    "Aim: Random sample imputation consists of taking random observation from the dataset and we use this observation to replace the nan values.\n",
    "\n",
    "Assumpation: The data are missing completely at random (MCAR)"
   ]
  },
  {
   "cell_type": "code",
   "execution_count": 32,
   "id": "b6d75cf0",
   "metadata": {},
   "outputs": [
    {
     "data": {
      "text/plain": [
       "Survived      0\n",
       "Age         177\n",
       "Fare          0\n",
       "dtype: int64"
      ]
     },
     "execution_count": 32,
     "metadata": {},
     "output_type": "execute_result"
    }
   ],
   "source": [
    "df = pd.read_csv('train.csv', usecols=['Age', 'Fare', 'Survived'])\n",
    "df.isnull().sum()"
   ]
  },
  {
   "cell_type": "code",
   "execution_count": 30,
   "id": "0f7c2ee8",
   "metadata": {},
   "outputs": [],
   "source": [
    "df.isnull().mean()\n",
    "def impute_nan(df, variable, median):\n",
    "    df[variable+'_median'] = df[variable].fillna(median)\n",
    "    df[variable+'_random'] = df[variable]\n",
    "    random_sample = df[variable].dropna().sample(df[variable].isnull().sum(), random_state=0)\n",
    "    random_sample.index = df[df[variable].isnull()].index\n",
    "    df.loc[df[variable].isnull(), variable+'_random']=random_sample\n",
    "   "
   ]
  },
  {
   "cell_type": "code",
   "execution_count": 37,
   "id": "fe5ee5bb",
   "metadata": {},
   "outputs": [],
   "source": [
    "impute_nan(df, 'Age', median)\n"
   ]
  },
  {
   "cell_type": "code",
   "execution_count": 38,
   "id": "42c66a46",
   "metadata": {},
   "outputs": [
    {
     "data": {
      "text/html": [
       "<div>\n",
       "<style scoped>\n",
       "    .dataframe tbody tr th:only-of-type {\n",
       "        vertical-align: middle;\n",
       "    }\n",
       "\n",
       "    .dataframe tbody tr th {\n",
       "        vertical-align: top;\n",
       "    }\n",
       "\n",
       "    .dataframe thead th {\n",
       "        text-align: right;\n",
       "    }\n",
       "</style>\n",
       "<table border=\"1\" class=\"dataframe\">\n",
       "  <thead>\n",
       "    <tr style=\"text-align: right;\">\n",
       "      <th></th>\n",
       "      <th>Survived</th>\n",
       "      <th>Age</th>\n",
       "      <th>Fare</th>\n",
       "      <th>Age_median</th>\n",
       "      <th>Age_random</th>\n",
       "    </tr>\n",
       "  </thead>\n",
       "  <tbody>\n",
       "    <tr>\n",
       "      <th>0</th>\n",
       "      <td>0</td>\n",
       "      <td>22.0</td>\n",
       "      <td>7.2500</td>\n",
       "      <td>22.0</td>\n",
       "      <td>22.0</td>\n",
       "    </tr>\n",
       "    <tr>\n",
       "      <th>1</th>\n",
       "      <td>1</td>\n",
       "      <td>38.0</td>\n",
       "      <td>71.2833</td>\n",
       "      <td>38.0</td>\n",
       "      <td>38.0</td>\n",
       "    </tr>\n",
       "    <tr>\n",
       "      <th>2</th>\n",
       "      <td>1</td>\n",
       "      <td>26.0</td>\n",
       "      <td>7.9250</td>\n",
       "      <td>26.0</td>\n",
       "      <td>26.0</td>\n",
       "    </tr>\n",
       "    <tr>\n",
       "      <th>3</th>\n",
       "      <td>1</td>\n",
       "      <td>35.0</td>\n",
       "      <td>53.1000</td>\n",
       "      <td>35.0</td>\n",
       "      <td>35.0</td>\n",
       "    </tr>\n",
       "    <tr>\n",
       "      <th>4</th>\n",
       "      <td>0</td>\n",
       "      <td>35.0</td>\n",
       "      <td>8.0500</td>\n",
       "      <td>35.0</td>\n",
       "      <td>35.0</td>\n",
       "    </tr>\n",
       "    <tr>\n",
       "      <th>...</th>\n",
       "      <td>...</td>\n",
       "      <td>...</td>\n",
       "      <td>...</td>\n",
       "      <td>...</td>\n",
       "      <td>...</td>\n",
       "    </tr>\n",
       "    <tr>\n",
       "      <th>886</th>\n",
       "      <td>0</td>\n",
       "      <td>27.0</td>\n",
       "      <td>13.0000</td>\n",
       "      <td>27.0</td>\n",
       "      <td>27.0</td>\n",
       "    </tr>\n",
       "    <tr>\n",
       "      <th>887</th>\n",
       "      <td>1</td>\n",
       "      <td>19.0</td>\n",
       "      <td>30.0000</td>\n",
       "      <td>19.0</td>\n",
       "      <td>19.0</td>\n",
       "    </tr>\n",
       "    <tr>\n",
       "      <th>888</th>\n",
       "      <td>0</td>\n",
       "      <td>NaN</td>\n",
       "      <td>23.4500</td>\n",
       "      <td>28.0</td>\n",
       "      <td>15.0</td>\n",
       "    </tr>\n",
       "    <tr>\n",
       "      <th>889</th>\n",
       "      <td>1</td>\n",
       "      <td>26.0</td>\n",
       "      <td>30.0000</td>\n",
       "      <td>26.0</td>\n",
       "      <td>26.0</td>\n",
       "    </tr>\n",
       "    <tr>\n",
       "      <th>890</th>\n",
       "      <td>0</td>\n",
       "      <td>32.0</td>\n",
       "      <td>7.7500</td>\n",
       "      <td>32.0</td>\n",
       "      <td>32.0</td>\n",
       "    </tr>\n",
       "  </tbody>\n",
       "</table>\n",
       "<p>891 rows × 5 columns</p>\n",
       "</div>"
      ],
      "text/plain": [
       "     Survived   Age     Fare  Age_median  Age_random\n",
       "0           0  22.0   7.2500        22.0        22.0\n",
       "1           1  38.0  71.2833        38.0        38.0\n",
       "2           1  26.0   7.9250        26.0        26.0\n",
       "3           1  35.0  53.1000        35.0        35.0\n",
       "4           0  35.0   8.0500        35.0        35.0\n",
       "..        ...   ...      ...         ...         ...\n",
       "886         0  27.0  13.0000        27.0        27.0\n",
       "887         1  19.0  30.0000        19.0        19.0\n",
       "888         0   NaN  23.4500        28.0        15.0\n",
       "889         1  26.0  30.0000        26.0        26.0\n",
       "890         0  32.0   7.7500        32.0        32.0\n",
       "\n",
       "[891 rows x 5 columns]"
      ]
     },
     "execution_count": 38,
     "metadata": {},
     "output_type": "execute_result"
    }
   ],
   "source": [
    "df"
   ]
  },
  {
   "cell_type": "code",
   "execution_count": 40,
   "id": "c23f3be6",
   "metadata": {},
   "outputs": [
    {
     "data": {
      "image/png": "[encoded data removed]",
      "text/plain": [
       "<Figure size 432x288 with 1 Axes>"
      ]
     },
     "metadata": {
      "needs_background": "light"
     },
     "output_type": "display_data"
    }
   ],
   "source": [
    "fig = plt.figure() \n",
    "ax1 = fig.add_subplot(111) \n",
    "df['Age'].plot(kind='kde', ax=ax1) \n",
    "df.Age_random.plot(kind='kde', ax=ax1, color='red') \n",
    "lines, labels = ax1.get_legend_handles_labels()"
   ]
  },
  {
   "cell_type": "markdown",
   "id": "aad309fa",
   "metadata": {},
   "source": [
    "#### Advantages and Disatvantages of Random Sampling Imputation\n",
    "\n",
    "#### Advabtages\n",
    "1. Easy to implement (Robust to outliers)\n",
    "2. Less Distortion in the original variabce\n",
    "\n",
    "#### Disadvabtages\n",
    "1. In every situation randomness wont work"
   ]
  },
  {
   "cell_type": "markdown",
   "id": "76f13d3e",
   "metadata": {},
   "source": [
    "## 3. Capturing NAN values with a new feature"
   ]
  },
  {
   "cell_type": "markdown",
   "id": "58073e78",
   "metadata": {},
   "source": [
    "Assumption: Data is missing not at random (MNAR)"
   ]
  },
  {
   "cell_type": "code",
   "execution_count": 41,
   "id": "d82aa0b6",
   "metadata": {},
   "outputs": [],
   "source": [
    "df = pd.read_csv('train.csv', usecols=['Age', 'Fare', 'Survived'])"
   ]
  },
  {
   "cell_type": "code",
   "execution_count": 42,
   "id": "d142c3f0",
   "metadata": {},
   "outputs": [],
   "source": [
    "df['Age_NAN'] = np.where(df['Age'].isnull(),1,0)"
   ]
  },
  {
   "cell_type": "markdown",
   "id": "9e51aaf0",
   "metadata": {},
   "source": [
    "## 4. End of Distribution Imputation\n",
    "\n",
    "Assumption: Data is missing not at random (MNAR)"
   ]
  },
  {
   "cell_type": "code",
   "execution_count": 43,
   "id": "7eddfb28",
   "metadata": {},
   "outputs": [],
   "source": [
    "def impute_nan(df, variable, extreme):\n",
    "    df[variable+\"_end_distribution\"] = df[variable].fillna(extreme)"
   ]
  },
  {
   "cell_type": "code",
   "execution_count": 44,
   "id": "b45491da",
   "metadata": {},
   "outputs": [
    {
     "data": {
      "text/plain": [
       "<AxesSubplot:xlabel='Age'>"
      ]
     },
     "execution_count": 44,
     "metadata": {},
     "output_type": "execute_result"
    },
    {
     "data": {
      "image/png": "[encoded data removed]",
      "text/plain": [
       "<Figure size 432x288 with 1 Axes>"
      ]
     },
     "metadata": {
      "needs_background": "light"
     },
     "output_type": "display_data"
    }
   ],
   "source": [
    "extreme = df['Age'].mean()+3*df['Age'].std()\n",
    "impute_nan(df, 'Age', extreme)\n",
    "sns.boxplot(x='Age', data=df)"
   ]
  },
  {
   "cell_type": "code",
   "execution_count": 45,
   "id": "87cc2958",
   "metadata": {},
   "outputs": [
    {
     "data": {
      "text/plain": [
       "<AxesSubplot:>"
      ]
     },
     "execution_count": 45,
     "metadata": {},
     "output_type": "execute_result"
    },
    {
     "data": {
      "image/png": "[encoded data removed]",
      "text/plain": [
       "<Figure size 432x288 with 1 Axes>"
      ]
     },
     "metadata": {
      "needs_background": "light"
     },
     "output_type": "display_data"
    }
   ],
   "source": [
    "df['Age_end_distribution'].hist(bins=50)"
   ]
  },
  {
   "cell_type": "code",
   "execution_count": 46,
   "id": "85021f3b",
   "metadata": {},
   "outputs": [
    {
     "data": {
      "text/plain": [
       "<AxesSubplot:xlabel='Age_end_distribution'>"
      ]
     },
     "execution_count": 46,
     "metadata": {},
     "output_type": "execute_result"
    },
    {
     "data": {
      "image/png": "[encoded data removed]",
      "text/plain": [
       "<Figure size 432x288 with 1 Axes>"
      ]
     },
     "metadata": {
      "needs_background": "light"
     },
     "output_type": "display_data"
    }
   ],
   "source": [
    "sns.boxplot(x='Age_end_distribution', data=df)"
   ]
  },
  {
   "cell_type": "markdown",
   "id": "3ed5fe7a",
   "metadata": {},
   "source": [
    "#### Advantages and Disatvantages of End of Distribution Imputation\n",
    "\n",
    "#### Advabtages\n",
    "1. Easy to implement (Robust to outliers)\n",
    "2. Captures the importance of missingness if there is one\n",
    "\n",
    "#### Disadvabtages\n",
    "1. Distorts the original distribution of the variable\n",
    "2. If missingness is not important, it may mask the predictive power of the original variable by distorting its distribution\n",
    "3. If the number of NA is big, it will mask true outliers in the distribution\n",
    "4. If the number of NA is small, the replaced NA may be considered an outlier and pre-processed in a subsequent feature engineering"
   ]
  },
  {
   "cell_type": "code",
   "execution_count": null,
   "id": "1ba3e943",
   "metadata": {},
   "outputs": [],
   "source": []
  }
 ],
 "metadata": {
  "kernelspec": {
   "display_name": "Python 3",
   "language": "python",
   "name": "python3"
  },
  "language_info": {
   "codemirror_mode": {
    "name": "ipython",
    "version": 3
   },
   "file_extension": ".py",
   "mimetype": "text/x-python",
   "name": "python",
   "nbconvert_exporter": "python",
   "pygments_lexer": "ipython3",
   "version": "3.8.11"
  }
 },
 "nbformat": 4,
 "nbformat_minor": 5
}
